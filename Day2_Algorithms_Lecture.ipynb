{
 "cells": [
  {
   "cell_type": "markdown",
   "metadata": {},
   "source": [
    "# Classic Algorithms"
   ]
  },
  {
   "cell_type": "markdown",
   "metadata": {},
   "source": [
    "## Tasks Today:\n",
    " \n",
    "1) <b>In-Place Algorithms</b> <br>\n",
    " &nbsp;&nbsp;&nbsp;&nbsp; a) Syntax <br>\n",
    " &nbsp;&nbsp;&nbsp;&nbsp; a) Out of Place Algorithm <br>\n",
    " &nbsp;&nbsp;&nbsp;&nbsp; b) In-Class Exercise #1 <br>\n",
    "2) <b>Two Pointers</b> <br>\n",
    "3) <b>Sorting Algorithms</b> <br>\n",
    "4) <b>Merge Sort</b> <br>\n",
    " &nbsp;&nbsp;&nbsp;&nbsp; a) Video on Algorithms <br>\n",
    " &nbsp;&nbsp;&nbsp;&nbsp; b) How it Works <br>\n",
    "5) <b>Exercises</b> <br>\n",
    " &nbsp;&nbsp;&nbsp;&nbsp; a) Exercise #1 - Reverse a List in Place Using an In-Place Algorithm <br>\n",
    " &nbsp;&nbsp;&nbsp;&nbsp; b) Exercise #2 - Find Distinct Words <br>\n",
    " &nbsp;&nbsp;&nbsp;&nbsp; c) Exercise #3 - Write a program to implement a Linear Search Algorithm. <br>"
   ]
  },
  {
   "cell_type": "markdown",
   "metadata": {},
   "source": [
    "## In-Place Algorithms"
   ]
  },
  {
   "cell_type": "markdown",
   "metadata": {},
   "source": [
    "#### Syntax"
   ]
  },
  {
   "cell_type": "code",
   "execution_count": 9,
   "metadata": {},
   "outputs": [
    {
     "name": "stdout",
     "output_type": "stream",
     "text": [
      "[4, 2, 3, 1]\n"
     ]
    }
   ],
   "source": [
    "# list_var[x], list_var[y] = list_var[y], list_var[x]\n",
    "\n",
    "my_list = [1, 2, 3, 4]\n",
    "\n",
    "my_list[0], my_list[3] = my_list[3], my_list[0]\n",
    "\n",
    "\n",
    "print(my_list)"
   ]
  },
  {
   "cell_type": "code",
   "execution_count": 23,
   "metadata": {},
   "outputs": [
    {
     "name": "stdout",
     "output_type": "stream",
     "text": [
      "Before Swap: [20, 5, 10]\n",
      "After Swap: [10, 5, 20]\n"
     ]
    }
   ],
   "source": [
    "# Sometimes known as a swap algorithm\n",
    "def swap(alist, x, y):\n",
    "    alist[x], alist[y] = alist[y], alist[x]\n",
    "    return alist\n",
    "    \n",
    "    \n",
    "my_list = [20, 5, 10]\n",
    "print(f\"Before Swap: {my_list}\")\n",
    "\n",
    "swap(my_list, 0, 2) # my_list[0], my_list[2] = my_list[2], my_list[0]\n",
    "\n",
    "print(f\"After Swap: {my_list}\")"
   ]
  },
  {
   "cell_type": "code",
   "execution_count": 26,
   "metadata": {},
   "outputs": [
    {
     "name": "stdout",
     "output_type": "stream",
     "text": [
      "My list is [10, 5, 20] and it's id is 2008180614656\n",
      "My list is [20, 5, 10] and it's id is 2008180614656\n"
     ]
    }
   ],
   "source": [
    "print(f\"My list is {my_list} and it's id is {id(my_list)}\")\n",
    "\n",
    "swap_list = swap(my_list, 0, 2)\n",
    "\n",
    "print(f\"My list is {swap_list} and it's id is {id(swap_list)}\")\n"
   ]
  },
  {
   "cell_type": "markdown",
   "metadata": {},
   "source": [
    "#### Out of Place Algorithm"
   ]
  },
  {
   "cell_type": "code",
   "execution_count": 20,
   "metadata": {},
   "outputs": [
    {
     "name": "stdout",
     "output_type": "stream",
     "text": [
      "[5, 4, 3, 2, 1]\n"
     ]
    }
   ],
   "source": [
    "my_list = [1, 2, 3, 4, 5]\n",
    "new_list = [''] * len(my_list)\n",
    "new_list[0] = my_list[len(my_list)-0-1]\n",
    "new_list[1] = my_list[len(my_list)-1-1]\n",
    "new_list[2] = my_list[len(my_list)-2-1]\n",
    "new_list[3] = my_list[len(my_list)-3-1]\n",
    "new_list[4] = my_list[len(my_list)-4-1]\n",
    "print(new_list)"
   ]
  },
  {
   "cell_type": "code",
   "execution_count": 28,
   "metadata": {},
   "outputs": [
    {
     "name": "stdout",
     "output_type": "stream",
     "text": [
      "Before swap: ['a', 'b', 'c', 'd']\n",
      "['d', 'c', 'b', 'a']\n",
      "After swap: ['a', 'b', 'c', 'd']\n",
      "My list is ['a', 'b', 'c', 'd'] and it's id is 2008180863680\n",
      "My list is ['d', 'c', 'b', 'a'] and it's id is 2008180864192\n"
     ]
    }
   ],
   "source": [
    "# Long form out of place reversal\n",
    "\n",
    "list_1 = ['a', 'b', 'c', 'd']\n",
    "\n",
    "def out_of_place_reverse(alist):\n",
    "    length = len(alist)\n",
    "    new_list = [''] * length\n",
    "    for i in range(length):\n",
    "        new_list[i] = alist[length-i-1]\n",
    "    return new_list\n",
    "\n",
    "\n",
    "print(f\"Before swap: {list_1}\")\n",
    "\n",
    "print(out_of_place_reverse(list_1))\n",
    "\n",
    "print(f\"After swap: {list_1}\")\n",
    "\n",
    "print(f\"My list is {list_1} and it's id is {id(list_1)}\")\n",
    "\n",
    "swap_list = out_of_place_reverse(list_1)\n",
    "\n",
    "print(f\"My list is {swap_list} and it's id is {id(swap_list)}\")"
   ]
  },
  {
   "cell_type": "markdown",
   "metadata": {},
   "source": [
    "#### In-Class Exercise #1 <br>\n",
    "<p>Write a function that takes in four arguments (list, index1, index2, index3), and swaps those three positions in the list passed in.</p>"
   ]
  },
  {
   "cell_type": "code",
   "execution_count": 30,
   "metadata": {},
   "outputs": [
    {
     "data": {
      "text/plain": [
       "[3, 4, 4, 8, 10, 2, 6]"
      ]
     },
     "execution_count": 30,
     "metadata": {},
     "output_type": "execute_result"
    }
   ],
   "source": [
    "l_1 = [10, 4, 3, 8, 4, 2, 6]\n",
    "\n",
    "def swapping(lst, x, y, z):\n",
    "    lst[x], lst[y], lst[z] = lst[y], lst[z], lst[x]\n",
    "    return lst\n",
    "\n",
    "swapping(l_1, 0, 2, 4)"
   ]
  },
  {
   "cell_type": "markdown",
   "metadata": {},
   "source": [
    "## Two Pointers"
   ]
  },
  {
   "cell_type": "markdown",
   "metadata": {},
   "source": [
    "#### Syntax"
   ]
  },
  {
   "cell_type": "code",
   "execution_count": null,
   "metadata": {},
   "outputs": [],
   "source": [
    "# An algorithm that will continue to swap elements until the initial list has been completely reversed\n",
    "# use two pointers to swap, also use a while loop\n",
    "# alist[left], alist[right] = alist[right], alist[left]\n",
    "\n",
    "ten_list = [1, 2, 3, 4, 5, 6, 7, 8, 9, 10]\n",
    "print(ten_list)\n",
    "\n",
    "\n",
    "def swap_with_pointers(alist):\n",
    "    # Create pointers for our list\n",
    "    left = 0 # first index of our list\n",
    "    right = len(alist) - 1 # last index of our list\n",
    "    while left < right:\n",
    "        alist[left], alist[right] = alist[right], alist[left]\n",
    "        left += 1\n",
    "        right -= 1\n",
    "    return alist\n",
    "\n",
    "\n",
    "swap_with_pointers(ten_list)\n",
    "    "
   ]
  },
  {
   "cell_type": "markdown",
   "metadata": {},
   "source": [
    "#### Video of Algorithms <br>\n",
    "<p>Watch the video about algorithms.</p>\n",
    "\n",
    "https://www.youtube.com/watch?v=Q9HjeFD62Uk\n",
    "\n",
    "https://www.youtube.com/watch?v=kPRA0W1kECg\n",
    "\n",
    "https://www.youtube.com/watch?v=ZZuD6iUe3Pc"
   ]
  },
  {
   "cell_type": "markdown",
   "metadata": {},
   "source": [
    "# Sorting Algorithms"
   ]
  },
  {
   "cell_type": "code",
   "execution_count": 36,
   "metadata": {},
   "outputs": [
    {
     "name": "stdout",
     "output_type": "stream",
     "text": [
      "[37, 15, 99, 40, 91, 60, 27, 87, 93, 30]\n"
     ]
    }
   ],
   "source": [
    "import random\n",
    "\n",
    "my_list = [random.randint(1, 100) for i in range(10)]\n",
    "print(my_list)"
   ]
  },
  {
   "cell_type": "markdown",
   "metadata": {},
   "source": [
    "#### Bubble Sort\n",
    "\n",
    "Worst Case: O(n^2) Time - O(1) Space"
   ]
  },
  {
   "cell_type": "code",
   "execution_count": 28,
   "metadata": {
    "scrolled": false
   },
   "outputs": [
    {
     "name": "stdout",
     "output_type": "stream",
     "text": [
      "[20, 79, 25, 32, 44, 97, 28, 68, 56, 37]\n",
      "[20, 25, 32, 44, 79, 28, 68, 56, 37, 97]\n",
      "[20, 25, 32, 44, 28, 68, 56, 37, 79, 97]\n",
      "[20, 25, 32, 28, 44, 56, 37, 68, 79, 97]\n",
      "[20, 25, 28, 32, 44, 37, 56, 68, 79, 97]\n",
      "[20, 25, 28, 32, 37, 44, 56, 68, 79, 97]\n",
      "[20, 25, 28, 32, 37, 44, 56, 68, 79, 97]\n",
      "[20, 25, 28, 32, 37, 44, 56, 68, 79, 97]\n",
      "[20, 25, 28, 32, 37, 44, 56, 68, 79, 97]\n",
      "[20, 25, 28, 32, 37, 44, 56, 68, 79, 97]\n",
      "[20, 25, 28, 32, 37, 44, 56, 68, 79, 97]\n"
     ]
    },
    {
     "data": {
      "text/plain": [
       "[20, 25, 28, 32, 37, 44, 56, 68, 79, 97]"
      ]
     },
     "execution_count": 28,
     "metadata": {},
     "output_type": "execute_result"
    }
   ],
   "source": [
    "def swap(alist, i, j):\n",
    "    alist[i], alist[j] = alist[j], alist[i]\n",
    "    \n",
    "def bubble_sort(alist):\n",
    "    print(alist)\n",
    "    for i in range(len(alist)):\n",
    "        for j in range(len(alist)-i-1):\n",
    "            if alist[j] > alist[j+1]:\n",
    "                swap(alist, j, j+1)\n",
    "        print(alist)\n",
    "    return alist\n",
    "        \n",
    "bubble_sort(my_list)"
   ]
  },
  {
   "cell_type": "code",
   "execution_count": 29,
   "metadata": {},
   "outputs": [
    {
     "name": "stdout",
     "output_type": "stream",
     "text": [
      "[20, 25, 32, 44, 79, 28, 68, 56, 37, 97]\n",
      "[20, 25, 32, 44, 28, 68, 56, 37, 79, 97]\n",
      "[20, 25, 32, 28, 44, 56, 37, 68, 79, 97]\n",
      "[20, 25, 28, 32, 44, 37, 56, 68, 79, 97]\n",
      "[20, 25, 28, 32, 37, 44, 56, 68, 79, 97]\n",
      "[20, 25, 28, 32, 37, 44, 56, 68, 79, 97]\n"
     ]
    },
    {
     "data": {
      "text/plain": [
       "[20, 25, 28, 32, 37, 44, 56, 68, 79, 97]"
      ]
     },
     "execution_count": 29,
     "metadata": {},
     "output_type": "execute_result"
    }
   ],
   "source": [
    "def bubble_sort2(alist):\n",
    "    is_sorted = False\n",
    "    while not is_sorted:\n",
    "        is_sorted = True\n",
    "        for j in range(len(alist)-1):\n",
    "            if alist[j] > alist[j+1]:\n",
    "                swap(alist, j, j+1)\n",
    "                is_sorted = False\n",
    "        print(alist)\n",
    "    return alist\n",
    "\n",
    "bubble_sort2([20, 79, 25, 32, 44, 97, 28, 68, 56, 37])"
   ]
  },
  {
   "cell_type": "markdown",
   "metadata": {},
   "source": [
    "##### Insertion Sort\n",
    "\n",
    "Worst Case: O(n^2) time - O(1)space"
   ]
  },
  {
   "cell_type": "code",
   "execution_count": 35,
   "metadata": {},
   "outputs": [
    {
     "name": "stdout",
     "output_type": "stream",
     "text": [
      "[33, 52, 74, 83, 98, 96, 91, 4, 33, 17]\n",
      "[33, 52, 74, 83, 98, 96, 91, 4, 33, 17]\n",
      "[33, 52, 74, 83, 98, 96, 91, 4, 33, 17]\n",
      "[33, 52, 74, 83, 98, 96, 91, 4, 33, 17]\n",
      "[33, 52, 74, 83, 96, 98, 91, 4, 33, 17]\n",
      "[33, 52, 74, 83, 91, 96, 98, 4, 33, 17]\n",
      "[4, 33, 52, 74, 83, 91, 96, 98, 33, 17]\n",
      "[4, 33, 33, 52, 74, 83, 91, 96, 98, 17]\n",
      "[4, 17, 33, 33, 52, 74, 83, 91, 96, 98]\n"
     ]
    },
    {
     "data": {
      "text/plain": [
       "[4, 17, 33, 33, 52, 74, 83, 91, 96, 98]"
      ]
     },
     "execution_count": 35,
     "metadata": {},
     "output_type": "execute_result"
    }
   ],
   "source": [
    "def swap(alist, i, j):\n",
    "    alist[i], alist[j] = alist[j], alist[i]\n",
    "    \n",
    "    \n",
    "def insertion_sort(alist):\n",
    "    for i in range(1, len(alist)):\n",
    "\n",
    "        while i > 0 and alist[i] < alist[i-1]:\n",
    "            swap(alist, i, i-1)\n",
    "            i -= 1\n",
    "        print(alist)\n",
    "    return alist\n",
    "\n",
    "\n",
    "insertion_sort(my_list)"
   ]
  },
  {
   "cell_type": "markdown",
   "metadata": {},
   "source": [
    "## Merge Sort"
   ]
  },
  {
   "cell_type": "markdown",
   "metadata": {},
   "source": [
    "#### How it Works"
   ]
  },
  {
   "cell_type": "code",
   "execution_count": 54,
   "metadata": {},
   "outputs": [
    {
     "name": "stdout",
     "output_type": "stream",
     "text": [
      "Splitting... [37, 15, 99, 40, 91, 60, 27, 87, 93, 30]\n",
      "Splitting... [37, 15, 99, 40, 91]\n",
      "Splitting... [37, 15]\n",
      "Splitting... [37]\n",
      "Merging: [37]\n",
      "Splitting... [15]\n",
      "Merging: [15]\n",
      "Merging: [15, 37]\n",
      "Splitting... [99, 40, 91]\n",
      "Splitting... [99]\n",
      "Merging: [99]\n",
      "Splitting... [40, 91]\n",
      "Splitting... [40]\n",
      "Merging: [40]\n",
      "Splitting... [91]\n",
      "Merging: [91]\n",
      "Merging: [40, 91]\n",
      "Merging: [40, 91, 99]\n",
      "Merging: [15, 37, 40, 91, 99]\n",
      "Splitting... [60, 27, 87, 93, 30]\n",
      "Splitting... [60, 27]\n",
      "Splitting... [60]\n",
      "Merging: [60]\n",
      "Splitting... [27]\n",
      "Merging: [27]\n",
      "Merging: [27, 60]\n",
      "Splitting... [87, 93, 30]\n",
      "Splitting... [87]\n",
      "Merging: [87]\n",
      "Splitting... [93, 30]\n",
      "Splitting... [93]\n",
      "Merging: [93]\n",
      "Splitting... [30]\n",
      "Merging: [30]\n",
      "Merging: [30, 93]\n",
      "Merging: [30, 87, 93]\n",
      "Merging: [27, 30, 60, 87, 93]\n",
      "Merging: [15, 27, 30, 37, 40, 60, 87, 91, 93, 99]\n"
     ]
    },
    {
     "data": {
      "text/plain": [
       "[15, 27, 30, 37, 40, 60, 87, 91, 93, 99]"
      ]
     },
     "execution_count": 54,
     "metadata": {},
     "output_type": "execute_result"
    }
   ],
   "source": [
    "my_list = [37, 15, 99, 40, 91, 60, 27, 87, 93, 30]\n",
    "\n",
    "# Merge Sort Step by Step\n",
    "# Step 1: If list is larger than 1 element, continue splitting into halves\n",
    "# Step 2: From left to right merge two groups together\n",
    "# Step 3: While merging, place each item in the correct position within the merged list\n",
    "# Step 4: Continue step 3-4 until one group is left\n",
    "\n",
    "def merge_sort(alist):\n",
    "    print(\"Splitting...\", alist)\n",
    "    \n",
    "    # Step 1: Divide into halves\n",
    "    if len(alist) > 1:\n",
    "        mid = len(alist) // 2\n",
    "        lefthalf = alist[:mid]\n",
    "        righthalf = alist[mid:]\n",
    "        \n",
    "        # recursively call merge_sort to perform slipts as needed\n",
    "        merge_sort(lefthalf)\n",
    "        merge_sort(righthalf)\n",
    "        \n",
    "        # once above function completes, merging of left and right half begins\n",
    "        # set index pointers for our list\n",
    "        i = 0 # pointer for lefthalf\n",
    "        j = 0 # pointer for righthalf\n",
    "        k = 0 # pointer for alist (list to merge into)\n",
    "        \n",
    "        # Step 2: Compare the lefthalf[i] to righthalf[j]\n",
    "        while i < len(lefthalf) and j < len(righthalf):\n",
    "            # Step 3\n",
    "            if lefthalf[i] < righthalf[j]:\n",
    "                alist[k] = lefthalf[i]\n",
    "                i += 1\n",
    "            else:\n",
    "                alist[k] = righthalf[j]\n",
    "                j += 1\n",
    "            k += 1\n",
    "        while i < len(lefthalf):\n",
    "            alist[k] = lefthalf[i]\n",
    "            i += 1\n",
    "            k += 1\n",
    "        while j < len(righthalf):\n",
    "            alist[k] = righthalf[j]\n",
    "            j += 1\n",
    "            k += 1\n",
    "    print('Merging:', alist)\n",
    "    return alist\n",
    "        \n",
    "        \n",
    "merge_sort(my_list)"
   ]
  },
  {
   "cell_type": "markdown",
   "metadata": {},
   "source": [
    "# Binary Search\n",
    "\n",
    "The Binary Search algorithm works by finding the number in the middle of a given array and comparing it to the target. Given that the array is sorted\n",
    "\n",
    "* The worst case run time for this algorithm is `O(log(n))`"
   ]
  },
  {
   "cell_type": "code",
   "execution_count": 57,
   "metadata": {},
   "outputs": [
    {
     "data": {
      "text/plain": [
       "-1"
      ]
     },
     "execution_count": 57,
     "metadata": {},
     "output_type": "execute_result"
    }
   ],
   "source": [
    "def binary_search(alist, value):\n",
    "    # Set our high and low for the list\n",
    "    low = 0 # far left of list\n",
    "    high = len(alist) - 1 # far right for the list\n",
    "    while low <= high:\n",
    "        mid = (low+high) // 2\n",
    "        if value == alist[mid]:\n",
    "            return f'The index for {value} is: {mid}'\n",
    "        elif value < alist[mid]:\n",
    "            high = mid - 1\n",
    "        else:\n",
    "            low = mid + 1\n",
    "    return -1\n",
    "\n",
    "\n",
    "binary_search([22,33,44,55,66,77,88,99], 68)"
   ]
  },
  {
   "cell_type": "markdown",
   "metadata": {},
   "source": [
    "# Exercises"
   ]
  },
  {
   "cell_type": "markdown",
   "metadata": {},
   "source": [
    "### Exercise #1 <br>\n",
    "<p>Reverse the list below in-place using an in-place algorithm.<br>For extra credit: Reverse the strings at the same time.</p>\n",
    "`Output: ['.', 'sentence', 'a', 'is', 'this']`\n",
    ". ecnetnes a si siht"
   ]
  },
  {
   "cell_type": "code",
   "execution_count": null,
   "metadata": {},
   "outputs": [],
   "source": [
    "words = ['this' , 'is', 'a', 'sentence', '.']\n"
   ]
  },
  {
   "cell_type": "markdown",
   "metadata": {},
   "source": [
    "### Exercise #2 <br>\n",
    "<p>Create a function that counts how many distinct words are in the string below, then outputs a dictionary with the words as the key and the value as the amount of times that word appears in the string.<br>Should output:<br>{'a': 5,<br>\n",
    " 'abstract': 1,<br>\n",
    " 'an': 3,<br>\n",
    " 'array': 2, ... etc...</p>"
   ]
  },
  {
   "cell_type": "code",
   "execution_count": null,
   "metadata": {},
   "outputs": [],
   "source": [
    "a_text = 'In computing, a hash table hash map is a data structure which implements an associative array abstract data type, a structure that can map keys to values. A hash table uses a hash function to compute an index into an array of buckets or slots from which the desired value can be found'\n",
    "\n"
   ]
  },
  {
   "cell_type": "markdown",
   "metadata": {},
   "source": [
    "## Exercise #3\n",
    "\n",
    "Write a program to implement a Linear Search Algorithm. Also in a comment, write the Time Complexity of the following algorithm.\n",
    "\n",
    "#### Hint: Linear Searching will require searching a list for a given number. "
   ]
  },
  {
   "cell_type": "code",
   "execution_count": null,
   "metadata": {},
   "outputs": [],
   "source": [
    "nums_list = [10,23,45,70,11,15]\n",
    "target = 70\n",
    "# Output: 'The index for 70 is: 3'\n",
    "# If number is not present return -1\n"
   ]
  }
 ],
 "metadata": {
  "kernelspec": {
   "display_name": "Python 3",
   "language": "python",
   "name": "python3"
  },
  "language_info": {
   "codemirror_mode": {
    "name": "ipython",
    "version": 3
   },
   "file_extension": ".py",
   "mimetype": "text/x-python",
   "name": "python",
   "nbconvert_exporter": "python",
   "pygments_lexer": "ipython3",
   "version": "3.8.5"
  }
 },
 "nbformat": 4,
 "nbformat_minor": 2
}
